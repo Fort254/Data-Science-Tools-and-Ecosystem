{
 "cells": [
  {
   "cell_type": "markdown",
   "id": "1a48dc82-15ed-4681-a32d-2030a8ad575a",
   "metadata": {},
   "source": [
    "# Data Science Tools and Ecosystem"
   ]
  },
  {
   "cell_type": "markdown",
   "id": "0315f8d4-5760-435b-9b7c-6f2e5022e92c",
   "metadata": {
    "tags": []
   },
   "source": [
    "## In this notebook, Data Science Tools and Ecosystem are summarized"
   ]
  },
  {
   "cell_type": "markdown",
   "id": "e11a6643-6973-4d3c-a317-057344ae7c3d",
   "metadata": {},
   "source": [
    "**Objectives**\n",
    "\n",
    "-popular languages Data Scientists use\n",
    "-Commonly used libraries by Data Scientists\n",
    "-Data Science Tools\n",
    "-arithmetic expressions in python\n"
   ]
  },
  {
   "cell_type": "markdown",
   "id": "f1d7df41-a8a8-4342-93d1-44dc212d7a64",
   "metadata": {
    "tags": []
   },
   "source": [
    "### some of the popular languages Data Scientists use are:\n",
    "1. Python\n",
    "2. Java\n",
    "3. C++"
   ]
  },
  {
   "cell_type": "markdown",
   "id": "1b377349-32ae-4c56-b489-ef8ebae7051b",
   "metadata": {},
   "source": [
    "### Some of the commonly used libraries by data scientists are:\n",
    "1. Anaconda\n",
    "2. Sci-kit learn\n",
    "3. matplotlib"
   ]
  },
  {
   "cell_type": "markdown",
   "id": "445e3a41-252b-47f1-9f1d-57d1010bae63",
   "metadata": {},
   "source": [
    "|Data Science Tools|\n",
    "--------------------\n",
    "|JupyterLab|\n",
    "|JupyterLite|\n",
    "|Google Colaboratory|"
   ]
  },
  {
   "cell_type": "markdown",
   "id": "0243f603-a632-4e2a-9ea0-b2ea3736af60",
   "metadata": {},
   "source": [
    "### Below are few examples of evalauting arithmetic expression in Python"
   ]
  },
  {
   "cell_type": "code",
   "execution_count": 5,
   "id": "bb129efb-3a69-41dc-96a2-3dd31f5fa5d7",
   "metadata": {
    "tags": []
   },
   "outputs": [
    {
     "data": {
      "text/plain": [
       "17"
      ]
     },
     "execution_count": 5,
     "metadata": {},
     "output_type": "execute_result"
    }
   ],
   "source": [
    "(3*4)+5"
   ]
  },
  {
   "cell_type": "code",
   "execution_count": 6,
   "id": "37ef3ee1-3508-4bdd-baae-a6abf2de2352",
   "metadata": {
    "tags": []
   },
   "outputs": [
    {
     "data": {
      "text/plain": [
       "3.3333333333333335"
      ]
     },
     "execution_count": 6,
     "metadata": {},
     "output_type": "execute_result"
    }
   ],
   "source": [
    "200/60"
   ]
  },
  {
   "cell_type": "markdown",
   "id": "9d498888-233e-404e-b1da-c869e094f90d",
   "metadata": {},
   "source": [
    "## Author\n",
    "Fortunatus Ochieng"
   ]
  },
  {
   "cell_type": "code",
   "execution_count": null,
   "id": "8ab7889c-6e35-48f0-92e7-b3c746636504",
   "metadata": {},
   "outputs": [],
   "source": []
  }
 ],
 "metadata": {
  "kernelspec": {
   "display_name": "Python",
   "language": "python",
   "name": "conda-env-python-py"
  },
  "language_info": {
   "codemirror_mode": {
    "name": "ipython",
    "version": 3
   },
   "file_extension": ".py",
   "mimetype": "text/x-python",
   "name": "python",
   "nbconvert_exporter": "python",
   "pygments_lexer": "ipython3",
   "version": "3.7.12"
  }
 },
 "nbformat": 4,
 "nbformat_minor": 5
}
